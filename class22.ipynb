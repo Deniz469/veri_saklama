{
  "nbformat": 4,
  "nbformat_minor": 0,
  "metadata": {
    "colab": {
      "name": "Welcome To Colaboratory",
      "provenance": [],
      "collapsed_sections": []
    },
    "kernelspec": {
      "display_name": "Python 3",
      "name": "python3"
    }
  },
  "cells": [
    {
      "cell_type": "code",
      "metadata": {
        "colab": {
          "base_uri": "https://localhost:8080/"
        },
        "id": "bLrRBYJObJig",
        "outputId": "37664bc8-d855-47c6-90ed-ad5e3bbb370f"
      },
      "source": [
        "import numpy as np\n",
        "from PIL import Image\n",
        "import os\n",
        "import string\n",
        "import random\n",
        "import time\n",
        "\n",
        "class data_hiding:\n",
        "  def __init__(self,path,execute=True):\n",
        "    self.path=path\n",
        "    \n",
        "    self.pixels_image, self.image = self.get_host(path)\n",
        "    if execute:\n",
        "      self.Set_Key()\n",
        "\n",
        "  def get_host(self,path):\n",
        "    path= \"./host.png\"\n",
        "    image = Image.open(path).convert('L')\n",
        "    image = image.resize((256,256))\n",
        "\n",
        "    pixels_image = image.load() \n",
        "\n",
        "    return pixels_image,image\n",
        "\n",
        "  def secret(self,path):\n",
        "    path=\"./sec.jpg\"\n",
        "    img_sec = Image.open(path).convert('L')\n",
        "    img_sec = img_sec.resize((256,256))\n",
        "    pixels_img_sec = img_sec.load()\n",
        "\n",
        "    return img_sec, pixels_img_sec\n",
        "\n",
        "  def listToString(self,s): \n",
        "      \n",
        "      # initialize an empty string\n",
        "      str1 = \"\" \n",
        "      \n",
        "      # traverse in the string  \n",
        "      for ele in s: \n",
        "          str1 += ele  \n",
        "      \n",
        "      # return string  \n",
        "      return str1\n",
        "\n",
        "  def embedding(self,pixels_img_sec):\n",
        "\n",
        "    for i in range(256):\n",
        "        for j in range(256):\n",
        "            binary_x=format(self.pixels_image[i,j],'08b')\n",
        "            \n",
        "            binary_x = list(binary_x)\n",
        "\n",
        "            \n",
        "            binary_x[7]=format(pixels_img_sec[i,j],'08b')[0]\n",
        "            binary_x[6]=format(pixels_img_sec[i,j],'08b')[1]\n",
        "            binary_x[5]=format(pixels_img_sec[i,j],'08b')[2]\n",
        "\n",
        "\n",
        "            \n",
        "            str_pix_x=self.listToString(binary_x)\n",
        "\n",
        "            self.pixels_image[i,j]=(int(str_pix_x,2))\n",
        "\n",
        "    \n",
        "\n",
        "    image1 = self.image.save(\"gomulu.jpg\")\n",
        "    return self.pixels_image\n",
        "  \n",
        "  \n",
        "\n",
        "\n",
        "\n",
        "\n",
        "\n",
        "  def Set_Key(self):\n",
        "    start_time = time.time()\n",
        "    bb,dd = self.secret(\"a\")\n",
        "    c = self.embedding(dd)\n",
        "    x = random.randint(0,255)\n",
        "    y = x\n",
        "    x = bytearray(x)\n",
        "    try:\n",
        "        \n",
        "        file_a = open(\"./key.txt\", 'wb')\n",
        "        key1 = file_a.write(x)\n",
        "        \n",
        "        fin = open(\"./gomulu.jpg\", 'rb')\n",
        "        \n",
        "        image1 = fin.read()\n",
        "        \n",
        "        image1 = bytearray(image1)\n",
        "        \n",
        "        for index, values in enumerate(image1):\n",
        "        \n",
        "            image1[index] = values ^ key1\n",
        "        \n",
        "        fin = open(\"./gomulu.jpg\", 'wb')\n",
        "        fin.write(image1)\n",
        "        \n",
        "        os.remove(\"key.txt\")\n",
        "        \n",
        "        FPS = 1.0 / (time.time() - start_time)\n",
        "        print(FPS)\n",
        "        \n",
        "    except Exception:\n",
        "        print('Error caught : ', Exception.__name__)# try block to handle excepti\n",
        "\n",
        "ghost = data_hiding(\"./host.png\",execute=True)\n",
        "#ghost.embedding"
      ],
      "execution_count": 99,
      "outputs": [
        {
          "output_type": "stream",
          "text": [
            "4.400198067997751\n",
            "mah\n"
          ],
          "name": "stdout"
        }
      ]
    },
    {
      "cell_type": "code",
      "metadata": {
        "id": "2nSUiGXobKyJ"
      },
      "source": [
        "\n",
        "def load_images_from_folder(folder):\n",
        "    for filename in os.listdir(folder):\n",
        "        start_time = time.time()\n",
        "        sec_pixel=ghost.read_Sec(os.path.join(folder,filename))\n",
        "        host_pixel=ghost.encrypt_Data(sec_pixel,filename[:-4])\n",
        "        FPS = 1.0 / (time.time() - start_time)\n",
        "        print(FPS)\n",
        "        #ghost.decrypt_Data(host_pixel)"
      ],
      "execution_count": null,
      "outputs": []
    },
    {
      "cell_type": "code",
      "metadata": {
        "id": "kILtkrcsbJn3"
      },
      "source": [
        ""
      ],
      "execution_count": null,
      "outputs": []
    },
    {
      "cell_type": "code",
      "metadata": {
        "id": "siAc_STcbJrH"
      },
      "source": [
        ""
      ],
      "execution_count": null,
      "outputs": []
    },
    {
      "cell_type": "code",
      "metadata": {
        "id": "pxVwqrpFbJty"
      },
      "source": [
        ""
      ],
      "execution_count": null,
      "outputs": []
    },
    {
      "cell_type": "code",
      "metadata": {
        "id": "Yv_XpAjcbJwS"
      },
      "source": [
        ""
      ],
      "execution_count": null,
      "outputs": []
    },
    {
      "cell_type": "code",
      "metadata": {
        "id": "_lCrrOWqbJyo"
      },
      "source": [
        ""
      ],
      "execution_count": null,
      "outputs": []
    }
  ]
}